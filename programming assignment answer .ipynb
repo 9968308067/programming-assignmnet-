{
 "cells": [
  {
   "cell_type": "code",
   "execution_count": 1,
   "id": "80045076-1409-49d1-9438-8784458444c9",
   "metadata": {},
   "outputs": [],
   "source": [
    "#Write a program that takes two numbers as input and prints their sum in python "
   ]
  },
  {
   "cell_type": "code",
   "execution_count": 2,
   "id": "fb948959-54fc-40d1-afa9-c51012362e13",
   "metadata": {},
   "outputs": [
    {
     "name": "stdin",
     "output_type": "stream",
     "text": [
      "Enter the first number:  23\n",
      "Enter the second number:  43\n"
     ]
    },
    {
     "name": "stdout",
     "output_type": "stream",
     "text": [
      "The sum of 23.0 and 43.0 is 66.0\n"
     ]
    }
   ],
   "source": [
    "# Function to get the sum of two numbers\n",
    "def add_two_numbers():\n",
    "    try:\n",
    "        # Take input from the user\n",
    "        num1 = float(input(\"Enter the first number: \"))\n",
    "        num2 = float(input(\"Enter the second number: \"))\n",
    "\n",
    "        # Calculate the sum\n",
    "        result = num1 + num2\n",
    "\n",
    "        # Print the result\n",
    "        print(f\"The sum of {num1} and {num2} is {result}\")\n",
    "    except ValueError:\n",
    "        print(\"Invalid input. Please enter numeric values.\")\n",
    "\n",
    "# Call the function\n",
    "add_two_numbers()\n"
   ]
  },
  {
   "cell_type": "code",
   "execution_count": null,
   "id": "0a744292-ec7d-4479-b77d-4b95c70cb0d1",
   "metadata": {},
   "outputs": [],
   "source": []
  },
  {
   "cell_type": "code",
   "execution_count": 4,
   "id": "421b880e-4cea-4e32-b433-04437cd0d18c",
   "metadata": {},
   "outputs": [
    {
     "name": "stdin",
     "output_type": "stream",
     "text": [
      "Enter a number:  67\n"
     ]
    },
    {
     "name": "stdout",
     "output_type": "stream",
     "text": [
      "67 is odd.\n"
     ]
    }
   ],
   "source": [
    "#Write a python program that checks whether a given number is even or odd.\n",
    "# Function to check if a number is even or odd\n",
    "def check_even_or_odd():\n",
    "    try:\n",
    "        # Take input from the user\n",
    "        num = int(input(\"Enter a number: \"))\n",
    "\n",
    "        # Check if the number is even or odd\n",
    "        if num % 2 == 0:\n",
    "            print(f\"{num} is even.\")\n",
    "        else:\n",
    "            print(f\"{num} is odd.\")\n",
    "    except ValueError:\n",
    "        print(\"Invalid input. Please enter an integer.\")\n",
    "\n",
    "# Call the function\n",
    "check_even_or_odd()\n"
   ]
  },
  {
   "cell_type": "code",
   "execution_count": null,
   "id": "561786b5-c8d6-4dbc-8b0e-d37c826781ef",
   "metadata": {},
   "outputs": [],
   "source": []
  },
  {
   "cell_type": "code",
   "execution_count": 6,
   "id": "71d4425a-2007-4b14-a4ee-71bdf6f9c9e7",
   "metadata": {},
   "outputs": [
    {
     "name": "stdin",
     "output_type": "stream",
     "text": [
      "Enter a number to calculate its factorial:  67\n"
     ]
    },
    {
     "name": "stdout",
     "output_type": "stream",
     "text": [
      "The factorial of 67 is 36471110918188685288249859096605464427167635314049524593701628500267962436943872000000000000000.\n"
     ]
    }
   ],
   "source": [
    "\n",
    "#Write a python program that calculates the factorial of a given number. \n",
    "# Function to calculate factorial iteratively\n",
    "def factorial_iterative(n):\n",
    "    if n < 0:\n",
    "        return \"Factorial is not defined for negative numbers.\"\n",
    "    factorial = 1\n",
    "    for i in range(1, n + 1):\n",
    "        factorial *= i\n",
    "    return factorial\n",
    "\n",
    "# Get input from the user\n",
    "try:\n",
    "    number = int(input(\"Enter a number to calculate its factorial: \"))\n",
    "    result = factorial_iterative(number)\n",
    "    print(f\"The factorial of {number} is {result}.\")\n",
    "except ValueError:\n",
    "    print(\"Invalid input. Please enter an integer.\")\n"
   ]
  },
  {
   "cell_type": "code",
   "execution_count": null,
   "id": "fdb09974-e1fd-48e8-a3cb-fa821fe3a4bd",
   "metadata": {},
   "outputs": [],
   "source": []
  },
  {
   "cell_type": "code",
   "execution_count": 8,
   "id": "8be9c52b-1ae3-4191-857c-6b2a8c8c9980",
   "metadata": {},
   "outputs": [
    {
     "name": "stdin",
     "output_type": "stream",
     "text": [
      "Please enter your name:  himanshi sharma \n"
     ]
    },
    {
     "name": "stdout",
     "output_type": "stream",
     "text": [
      "Hello, himanshi sharma ! Welcome!\n"
     ]
    }
   ],
   "source": [
    "#Write a program that asks the user for their name and then prints a greeting message.\n",
    "# Function to greet the user\n",
    "def greet_user():\n",
    "    # Get the user's name\n",
    "    name = input(\"Please enter your name: \")\n",
    "    \n",
    "    # Print the greeting message\n",
    "    print(f\"Hello, {name}! Welcome!\")\n",
    "\n",
    "# Call the function\n",
    "greet_user()\n"
   ]
  },
  {
   "cell_type": "code",
   "execution_count": null,
   "id": "a2960dbd-4ab2-4c13-b65c-db339449ff3f",
   "metadata": {},
   "outputs": [],
   "source": []
  },
  {
   "cell_type": "code",
   "execution_count": 9,
   "id": "d5ba03b7-f2bd-4fee-9ff4-6f6aff4ec0f9",
   "metadata": {},
   "outputs": [
    {
     "name": "stdin",
     "output_type": "stream",
     "text": [
      "Enter some text to write to a file:  hello , welcome!\n"
     ]
    },
    {
     "name": "stdout",
     "output_type": "stream",
     "text": [
      "The text has been written to user_input.txt.\n"
     ]
    }
   ],
   "source": [
    "#Write a program that takes a string input from the user and writes it to a text file. \n",
    "# Function to write user input to a text file\n",
    "def write_to_file():\n",
    "    # Get input from the user\n",
    "    user_input = input(\"Enter some text to write to a file: \")\n",
    "    \n",
    "    # Define the filename\n",
    "    filename = \"user_input.txt\"\n",
    "    \n",
    "    try:\n",
    "        # Open the file in write mode\n",
    "        with open(filename, \"w\") as file:\n",
    "            # Write the user's input to the file\n",
    "            file.write(user_input)\n",
    "            print(f\"The text has been written to {filename}.\")\n",
    "    except Exception as e:\n",
    "        print(f\"An error occurred while writing to the file: {e}\")\n",
    "\n",
    "# Call the function\n",
    "write_to_file()\n"
   ]
  },
  {
   "cell_type": "code",
   "execution_count": null,
   "id": "d2c42982-b457-4236-8eb6-873c3f12e99c",
   "metadata": {},
   "outputs": [],
   "source": []
  },
  {
   "cell_type": "code",
   "execution_count": 10,
   "id": "53a9156a-5cb5-4d64-9419-4731a9ca7546",
   "metadata": {},
   "outputs": [
    {
     "name": "stdout",
     "output_type": "stream",
     "text": [
      "Content of user_input.txt:\n",
      "hello , welcome!\n"
     ]
    }
   ],
   "source": [
    "#Write a program that reads the content of a text file and prints it to the console.\n",
    "# Function to read and print the contents of a text file\n",
    "def read_from_file():\n",
    "    # Define the filename\n",
    "    filename = \"user_input.txt\"\n",
    "    \n",
    "    try:\n",
    "        # Open the file in read mode\n",
    "        with open(filename, \"r\") as file:\n",
    "            # Read the content of the file\n",
    "            content = file.read()\n",
    "            # Print the content to the console\n",
    "            print(f\"Content of {filename}:\\n{content}\")\n",
    "    except FileNotFoundError:\n",
    "        print(f\"The file {filename} does not exist.\")\n",
    "    except Exception as e:\n",
    "        print(f\"An error occurred while reading the file: {e}\")\n",
    "\n",
    "# Call the function\n",
    "read_from_file()\n"
   ]
  },
  {
   "cell_type": "code",
   "execution_count": null,
   "id": "d2da6d63-219e-44ef-9310-7bb54888fba1",
   "metadata": {},
   "outputs": [],
   "source": []
  },
  {
   "cell_type": "code",
   "execution_count": 11,
   "id": "22eca12b-5a21-438d-be84-5ae5751af6cd",
   "metadata": {},
   "outputs": [
    {
     "name": "stdin",
     "output_type": "stream",
     "text": [
      "Enter a string:  hello\n"
     ]
    },
    {
     "name": "stdout",
     "output_type": "stream",
     "text": [
      "The length of the entered string is 5 characters.\n"
     ]
    }
   ],
   "source": [
    "\n",
    "#Write a python program that takes a string as input and returns its length. \n",
    "# Function to return the length of a string\n",
    "def string_length():\n",
    "    # Get input from the user\n",
    "    user_input = input(\"Enter a string: \")\n",
    "    \n",
    "    # Calculate the length of the string\n",
    "    length = len(user_input)\n",
    "    \n",
    "    # Print the length of the string\n",
    "    print(f\"The length of the entered string is {length} characters.\")\n",
    "\n",
    "# Call the function\n",
    "string_length()\n"
   ]
  },
  {
   "cell_type": "code",
   "execution_count": null,
   "id": "ba277a31-dbb8-4262-9592-fbd10554e5a5",
   "metadata": {},
   "outputs": [],
   "source": []
  },
  {
   "cell_type": "code",
   "execution_count": 12,
   "id": "d1989d8a-24d9-4aca-b4ed-96b527ea74ee",
   "metadata": {},
   "outputs": [
    {
     "name": "stdin",
     "output_type": "stream",
     "text": [
      "Enter the first string:  himanshi\n",
      "Enter the second string:  sharma\n"
     ]
    },
    {
     "name": "stdout",
     "output_type": "stream",
     "text": [
      "The concatenated string is: himanshisharma\n"
     ]
    }
   ],
   "source": [
    "#Write a python program that concatenates two strings and returns the result.\n",
    "# Function to concatenate two strings\n",
    "def concatenate_strings():\n",
    "    # Get the first string from the user\n",
    "    string1 = input(\"Enter the first string: \")\n",
    "    \n",
    "    # Get the second string from the user\n",
    "    string2 = input(\"Enter the second string: \")\n",
    "    \n",
    "    # Concatenate the two strings\n",
    "    result = string1 + string2\n",
    "    \n",
    "    # Print the concatenated result\n",
    "    print(f\"The concatenated string is: {result}\")\n",
    "\n",
    "# Call the function\n",
    "concatenate_strings()\n"
   ]
  },
  {
   "cell_type": "code",
   "execution_count": null,
   "id": "d36be12b-6c69-4f4d-a5af-73e63dce7a89",
   "metadata": {},
   "outputs": [],
   "source": []
  },
  {
   "cell_type": "code",
   "execution_count": 13,
   "id": "b97b8b63-aebc-44cd-b832-65386fd4fcea",
   "metadata": {},
   "outputs": [
    {
     "name": "stdin",
     "output_type": "stream",
     "text": [
      "Enter the main string:  himanshi\n",
      "Enter the substring to check:  sharma\n"
     ]
    },
    {
     "name": "stdout",
     "output_type": "stream",
     "text": [
      "'sharma' is not present in the main string.\n"
     ]
    }
   ],
   "source": [
    "#Write a python program that checks if a substring is present in a given string. \n",
    "# Function to check if a substring is present in a given string\n",
    "def check_substring():\n",
    "    # Get the main string from the user\n",
    "    main_string = input(\"Enter the main string: \")\n",
    "    \n",
    "    # Get the substring from the user\n",
    "    substring = input(\"Enter the substring to check: \")\n",
    "    \n",
    "    # Check if the substring is in the main string\n",
    "    if substring in main_string:\n",
    "        print(f\"'{substring}' is present in the main string.\")\n",
    "    else:\n",
    "        print(f\"'{substring}' is not present in the main string.\")\n",
    "\n",
    "# Call the function\n",
    "check_substring()\n"
   ]
  },
  {
   "cell_type": "code",
   "execution_count": null,
   "id": "55c878a9-39c9-4a21-b658-0ae8f3c64cc7",
   "metadata": {},
   "outputs": [],
   "source": []
  },
  {
   "cell_type": "code",
   "execution_count": 14,
   "id": "0582ad05-d3f8-4342-972b-f2fa7a13f5a8",
   "metadata": {},
   "outputs": [
    {
     "name": "stdin",
     "output_type": "stream",
     "text": [
      "Enter a string to convert to uppercase:  himanshi\n"
     ]
    },
    {
     "name": "stdout",
     "output_type": "stream",
     "text": [
      "The uppercase version of the string is: HIMANSHI\n"
     ]
    }
   ],
   "source": [
    "#Write a python program that converts a given string to uppercase. \n",
    "# Function to convert a string to uppercase\n",
    "def convert_to_uppercase():\n",
    "    # Get the string from the user\n",
    "    user_string = input(\"Enter a string to convert to uppercase: \")\n",
    "    \n",
    "    # Convert the string to uppercase\n",
    "    uppercase_string = user_string.upper()\n",
    "    \n",
    "    # Print the uppercase string\n",
    "    print(f\"The uppercase version of the string is: {uppercase_string}\")\n",
    "\n",
    "# Call the function\n",
    "convert_to_uppercase()\n"
   ]
  },
  {
   "cell_type": "code",
   "execution_count": null,
   "id": "a43ca3dd-5128-4987-8352-72c479ba6708",
   "metadata": {},
   "outputs": [],
   "source": []
  },
  {
   "cell_type": "code",
   "execution_count": 15,
   "id": "846377ca-97cc-4a26-acc6-a3c59959b8df",
   "metadata": {},
   "outputs": [
    {
     "name": "stdin",
     "output_type": "stream",
     "text": [
      "Enter the number of Fibonacci numbers to generate:  45\n"
     ]
    },
    {
     "name": "stdout",
     "output_type": "stream",
     "text": [
      "The first 45 numbers in the Fibonacci sequence are: [0, 1, 1, 2, 3, 5, 8, 13, 21, 34, 55, 89, 144, 233, 377, 610, 987, 1597, 2584, 4181, 6765, 10946, 17711, 28657, 46368, 75025, 121393, 196418, 317811, 514229, 832040, 1346269, 2178309, 3524578, 5702887, 9227465, 14930352, 24157817, 39088169, 63245986, 102334155, 165580141, 267914296, 433494437, 701408733]\n"
     ]
    }
   ],
   "source": [
    "#Write a python program that generates the first n numbers in the Fibonacci sequence.\n",
    "# Function to generate the first n numbers in the Fibonacci sequence\n",
    "def fibonacci_sequence(n):\n",
    "    # Initialize the first two numbers in the sequence\n",
    "    fibonacci_sequence = [0, 1]\n",
    "\n",
    "    # Generate the Fibonacci sequence\n",
    "    for i in range(2, n):\n",
    "        next_number = fibonacci_sequence[-1] + fibonacci_sequence[-2]\n",
    "        fibonacci_sequence.append(next_number)\n",
    "\n",
    "    return fibonacci_sequence\n",
    "\n",
    "# Get input from the user for the number of Fibonacci numbers to generate\n",
    "try:\n",
    "    n = int(input(\"Enter the number of Fibonacci numbers to generate: \"))\n",
    "\n",
    "    # Check if n is positive\n",
    "    if n <= 0:\n",
    "        print(\"Please enter a positive integer.\")\n",
    "    else:\n",
    "        # Call the function and print the result\n",
    "        result = fibonacci_sequence(n)\n",
    "        print(\"The first\", n, \"numbers in the Fibonacci sequence are:\", result)\n",
    "except ValueError:\n",
    "    print(\"Invalid input. Please enter a positive integer.\")\n"
   ]
  },
  {
   "cell_type": "code",
   "execution_count": null,
   "id": "40611c8c-c655-402f-b8ca-019b157ea7f6",
   "metadata": {},
   "outputs": [],
   "source": [
    "\n"
   ]
  },
  {
   "cell_type": "code",
   "execution_count": 16,
   "id": "5bcdfb28-6375-4ca7-9ddf-a050d3ac4fe4",
   "metadata": {},
   "outputs": [
    {
     "name": "stdin",
     "output_type": "stream",
     "text": [
      "Enter a number to calculate the sum of its digits:  67\n"
     ]
    },
    {
     "name": "stdout",
     "output_type": "stream",
     "text": [
      "The sum of digits of 67 is 13.\n"
     ]
    }
   ],
   "source": [
    "#Write a python program that calculates the sum of the digits of a given number. \n",
    "# Function to calculate the sum of digits of a number\n",
    "def sum_of_digits(number):\n",
    "    # Initialize the sum\n",
    "    digit_sum = 0\n",
    "\n",
    "    # Iterate through each digit of the number\n",
    "    while number > 0:\n",
    "        # Extract the last digit\n",
    "        digit = number % 10\n",
    "        # Add the digit to the sum\n",
    "        digit_sum += digit\n",
    "        # Remove the last digit from the number\n",
    "        number //= 10\n",
    "\n",
    "    return digit_sum\n",
    "\n",
    "# Get input from the user\n",
    "try:\n",
    "    number = int(input(\"Enter a number to calculate the sum of its digits: \"))\n",
    "    # Calculate the sum of digits\n",
    "    result = sum_of_digits(abs(number))\n",
    "    print(f\"The sum of digits of {number} is {result}.\")\n",
    "except ValueError:\n",
    "    print(\"Invalid input. Please enter an integer.\")\n"
   ]
  },
  {
   "cell_type": "code",
   "execution_count": null,
   "id": "292db9f7-2104-4957-9e5e-05a87307724e",
   "metadata": {},
   "outputs": [],
   "source": []
  },
  {
   "cell_type": "code",
   "execution_count": 17,
   "id": "c07dd4ba-571f-4c57-befc-7e8fb135f8b6",
   "metadata": {},
   "outputs": [
    {
     "name": "stdin",
     "output_type": "stream",
     "text": [
      "Enter your birth year:  2001\n"
     ]
    },
    {
     "name": "stdout",
     "output_type": "stream",
     "text": [
      "You are 23 years old.\n"
     ]
    }
   ],
   "source": [
    "#Write a program that asks the user for their birth year and calculates their age.\n",
    "# Function to calculate age based on birth year\n",
    "def calculate_age(birth_year):\n",
    "    # Get the current year\n",
    "    current_year = 2024  # You can update this to the current year using datetime.datetime.now().year\n",
    "    \n",
    "    # Calculate the age\n",
    "    age = current_year - birth_year\n",
    "    \n",
    "    return age\n",
    "\n",
    "# Get input from the user\n",
    "try:\n",
    "    birth_year = int(input(\"Enter your birth year: \"))\n",
    "    \n",
    "    # Check if birth year is in the future\n",
    "    if birth_year > 2024:\n",
    "        print(\"You haven't been born yet!\")\n",
    "    else:\n",
    "        # Calculate the age\n",
    "        age = calculate_age(birth_year)\n",
    "        print(f\"You are {age} years old.\")\n",
    "except ValueError:\n",
    "    print(\"Invalid input. Please enter a valid year.\")\n"
   ]
  },
  {
   "cell_type": "code",
   "execution_count": null,
   "id": "fe962387-3aaa-4a4b-9092-864ecccb1f61",
   "metadata": {},
   "outputs": [],
   "source": []
  },
  {
   "cell_type": "code",
   "execution_count": 18,
   "id": "4a5419c5-a173-4524-87e3-fa15123911bd",
   "metadata": {},
   "outputs": [
    {
     "name": "stdin",
     "output_type": "stream",
     "text": [
      "Enter a line (or press Enter to finish):  hello\n",
      "Enter a line (or press Enter to finish):  hello\n",
      "Enter a line (or press Enter to finish):  \n"
     ]
    },
    {
     "name": "stdout",
     "output_type": "stream",
     "text": [
      "\n",
      "The lines you entered are:\n",
      "hello\n",
      "hello\n"
     ]
    }
   ],
   "source": [
    "#Write a program that reads multiple lines of input from the user until they enter an empty line, then prints all the lines. \n",
    "# Function to read and print multiple lines of input\n",
    "def read_and_print_lines():\n",
    "    lines = []\n",
    "    while True:\n",
    "        line = input(\"Enter a line (or press Enter to finish): \")\n",
    "        if line:\n",
    "            lines.append(line)\n",
    "        else:\n",
    "            break\n",
    "    \n",
    "    if lines:\n",
    "        print(\"\\nThe lines you entered are:\")\n",
    "        for line in lines:\n",
    "            print(line)\n",
    "    else:\n",
    "        print(\"No lines were entered.\")\n",
    "\n",
    "# Call the function\n",
    "read_and_print_lines()\n"
   ]
  },
  {
   "cell_type": "code",
   "execution_count": null,
   "id": "2709fcdc-62ee-4d64-94de-79d116440810",
   "metadata": {},
   "outputs": [],
   "source": []
  },
  {
   "cell_type": "code",
   "execution_count": 19,
   "id": "95e4d3be-ad9d-43f2-9436-7b6007c1c80d",
   "metadata": {},
   "outputs": [
    {
     "name": "stdout",
     "output_type": "stream",
     "text": [
      "File 'data.csv' not found.\n"
     ]
    }
   ],
   "source": [
    "#Write a program that reads data from a CSV file and prints it to the console.\n",
    "import csv\n",
    "\n",
    "# Function to read data from a CSV file and print it to the console\n",
    "def read_csv_and_print(filename):\n",
    "    try:\n",
    "        with open(filename, 'r', newline='') as file:\n",
    "            csv_reader = csv.reader(file)\n",
    "            print(\"Data from CSV file:\")\n",
    "            for row in csv_reader:\n",
    "                print(', '.join(row))\n",
    "    except FileNotFoundError:\n",
    "        print(f\"File '{filename}' not found.\")\n",
    "    except Exception as e:\n",
    "        print(f\"An error occurred: {e}\")\n",
    "\n",
    "# File to read (update with your CSV file path)\n",
    "csv_file = 'data.csv'\n",
    "\n",
    "# Call the function\n",
    "read_csv_and_print(csv_file)\n"
   ]
  },
  {
   "cell_type": "code",
   "execution_count": null,
   "id": "1317c06b-489e-463d-bd0d-ec2bd79034a7",
   "metadata": {},
   "outputs": [],
   "source": []
  },
  {
   "cell_type": "code",
   "execution_count": 20,
   "id": "41421d13-a8d6-45bb-a25e-1292604f507b",
   "metadata": {},
   "outputs": [
    {
     "name": "stdin",
     "output_type": "stream",
     "text": [
      "Enter a string:  hello\n"
     ]
    },
    {
     "name": "stdout",
     "output_type": "stream",
     "text": [
      "Character frequencies:\n",
      "'h': 1\n",
      "'e': 1\n",
      "'l': 2\n",
      "'o': 1\n"
     ]
    }
   ],
   "source": [
    "#Write a program in python that counts the frequency of each character in a string.\n",
    "# Function to count the frequency of each character in a string\n",
    "def count_character_frequency(string):\n",
    "    # Initialize an empty dictionary to store character frequencies\n",
    "    frequency_dict = {}\n",
    "\n",
    "    # Iterate through each character in the string\n",
    "    for char in string:\n",
    "        # Increment the count for the character in the dictionary\n",
    "        frequency_dict[char] = frequency_dict.get(char, 0) + 1\n",
    "\n",
    "    return frequency_dict\n",
    "\n",
    "# Get input from the user\n",
    "string = input(\"Enter a string: \")\n",
    "\n",
    "# Call the function to count character frequencies\n",
    "frequency_result = count_character_frequency(string)\n",
    "\n",
    "# Print the character frequencies\n",
    "print(\"Character frequencies:\")\n",
    "for char, frequency in frequency_result.items():\n",
    "    print(f\"'{char}': {frequency}\")\n"
   ]
  },
  {
   "cell_type": "code",
   "execution_count": null,
   "id": "c520d6c4-56df-437c-a691-057cecddfa32",
   "metadata": {},
   "outputs": [],
   "source": []
  },
  {
   "cell_type": "code",
   "execution_count": 21,
   "id": "13c2496f-9937-4853-8303-14a79058e8cb",
   "metadata": {},
   "outputs": [
    {
     "name": "stdin",
     "output_type": "stream",
     "text": [
      "Enter a string:  hello\n"
     ]
    },
    {
     "name": "stdout",
     "output_type": "stream",
     "text": [
      "String in title case: Hello\n"
     ]
    }
   ],
   "source": [
    "#Write a program in python that converts a given string to title case (first letter of each word capitalized). \n",
    "# Function to convert a string to title case\n",
    "def convert_to_title_case(input_string):\n",
    "    return input_string.title()\n",
    "\n",
    "# Get input from the user\n",
    "input_string = input(\"Enter a string: \")\n",
    "\n",
    "# Call the function to convert to title case\n",
    "title_case_string = convert_to_title_case(input_string)\n",
    "\n",
    "# Print the title case string\n",
    "print(\"String in title case:\", title_case_string)\n"
   ]
  },
  {
   "cell_type": "code",
   "execution_count": null,
   "id": "9bb1c21e-77bd-41bf-966b-11028cee4c23",
   "metadata": {},
   "outputs": [],
   "source": []
  },
  {
   "cell_type": "code",
   "execution_count": 22,
   "id": "41bb8d0c-fece-4f68-9fc0-a5532d5cdd2d",
   "metadata": {},
   "outputs": [
    {
     "name": "stdin",
     "output_type": "stream",
     "text": [
      "Enter the first string:  hello\n",
      "Enter the second string:  hello\n"
     ]
    },
    {
     "name": "stdout",
     "output_type": "stream",
     "text": [
      "The strings are anagrams of each other.\n"
     ]
    }
   ],
   "source": [
    "#Write a python program that checks if two strings are anagrams of each other.\n",
    "# Function to check if two strings are anagrams\n",
    "def are_anagrams(str1, str2):\n",
    "    # Remove spaces and convert both strings to lowercase\n",
    "    str1 = str1.replace(\" \", \"\").lower()\n",
    "    str2 = str2.replace(\" \", \"\").lower()\n",
    "\n",
    "    # Check if the sorted versions of the strings are equal\n",
    "    return sorted(str1) == sorted(str2)\n",
    "\n",
    "# Get input from the user\n",
    "string1 = input(\"Enter the first string: \")\n",
    "string2 = input(\"Enter the second string: \")\n",
    "\n",
    "# Check if the strings are anagrams\n",
    "if are_anagrams(string1, string2):\n",
    "    print(\"The strings are anagrams of each other.\")\n",
    "else:\n",
    "    print(\"The strings are not anagrams of each other.\")\n"
   ]
  },
  {
   "cell_type": "code",
   "execution_count": null,
   "id": "cf413add-a980-46bc-a951-83362f941a2f",
   "metadata": {},
   "outputs": [],
   "source": []
  },
  {
   "cell_type": "code",
   "execution_count": 23,
   "id": "0a94c6b9-acb9-4cac-93a1-ddfc0dc1efe5",
   "metadata": {},
   "outputs": [
    {
     "name": "stdin",
     "output_type": "stream",
     "text": [
      "Enter a string with punctuation:  hello!!!!!\n"
     ]
    },
    {
     "name": "stdout",
     "output_type": "stream",
     "text": [
      "String without punctuation: hello\n"
     ]
    }
   ],
   "source": [
    "#Write a python program that removes all punctuation from a given string. \n",
    "import string\n",
    "\n",
    "# Function to remove punctuation from a string\n",
    "def remove_punctuation(input_string):\n",
    "    # Define the set of punctuation characters\n",
    "    punctuation_set = set(string.punctuation)\n",
    "\n",
    "    # Remove punctuation characters from the input string\n",
    "    cleaned_string = ''.join(char for char in input_string if char not in punctuation_set)\n",
    "\n",
    "    return cleaned_string\n",
    "\n",
    "# Get input from the user\n",
    "input_string = input(\"Enter a string with punctuation: \")\n",
    "\n",
    "# Call the function to remove punctuation\n",
    "cleaned_string = remove_punctuation(input_string)\n",
    "\n",
    "# Print the cleaned string\n",
    "print(\"String without punctuation:\", cleaned_string)\n"
   ]
  },
  {
   "cell_type": "code",
   "execution_count": null,
   "id": "5a2795a9-0bd3-45df-a65c-93b86865970d",
   "metadata": {},
   "outputs": [],
   "source": []
  },
  {
   "cell_type": "code",
   "execution_count": 25,
   "id": "bfcf3dc7-fea8-4093-b3d2-fb1b0cbdfc4e",
   "metadata": {},
   "outputs": [
    {
     "name": "stdin",
     "output_type": "stream",
     "text": [
      "Enter a list of numbers separated by spaces:  1 2 3 4 5\n"
     ]
    },
    {
     "name": "stdout",
     "output_type": "stream",
     "text": [
      "Sum of the numbers: 15\n"
     ]
    }
   ],
   "source": [
    "# Write a python program that takes a list of numbers and returns their sum.\n",
    "# Function to calculate the sum of numbers in a list\n",
    "def calculate_sum(numbers):\n",
    "    return sum(numbers)\n",
    "\n",
    "# Get input from the user\n",
    "try:\n",
    "    numbers = input(\"Enter a list of numbers separated by spaces: \").split()\n",
    "    # Convert the input strings to integers\n",
    "    numbers = [int(num) for num in numbers]\n",
    "    # Call the function to calculate the sum\n",
    "    result = calculate_sum(numbers)\n",
    "    print(\"Sum of the numbers:\", result)\n",
    "except ValueError:\n",
    "    print(\"Invalid input. Please enter numbers separated by spaces.\")\n"
   ]
  },
  {
   "cell_type": "code",
   "execution_count": null,
   "id": "49cfc1b8-c217-49f8-bc09-df97849e1878",
   "metadata": {},
   "outputs": [],
   "source": []
  },
  {
   "cell_type": "code",
   "execution_count": 26,
   "id": "bdf758f7-1ce0-4ff0-8841-6002cd2731c2",
   "metadata": {},
   "outputs": [
    {
     "name": "stdin",
     "output_type": "stream",
     "text": [
      "Enter a list of numbers separated by spaces:  1 2 3 4 5\n",
      "Enter the element to count:  5\n"
     ]
    },
    {
     "name": "stdout",
     "output_type": "stream",
     "text": [
      "Occurrences of 5 in the list: 1\n"
     ]
    }
   ],
   "source": [
    "#Write a python program that counts the occurrences of a specific element in a list\n",
    "# Function to count occurrences of a specific element in a list\n",
    "def count_occurrences(lst, element):\n",
    "    return lst.count(element)\n",
    "\n",
    "# Get input from the user\n",
    "try:\n",
    "    # Get the list of numbers from the user\n",
    "    numbers = input(\"Enter a list of numbers separated by spaces: \").split()\n",
    "    # Convert the input strings to integers\n",
    "    numbers = [int(num) for num in numbers]\n",
    "    # Get the element to count\n",
    "    element = int(input(\"Enter the element to count: \"))\n",
    "    # Call the function to count occurrences\n",
    "    occurrences = count_occurrences(numbers, element)\n",
    "    print(f\"Occurrences of {element} in the list: {occurrences}\")\n",
    "except ValueError:\n",
    "    print(\"Invalid input. Please enter numbers separated by spaces.\")\n"
   ]
  },
  {
   "cell_type": "code",
   "execution_count": null,
   "id": "52719331-e1d8-4b06-8523-78a855800faa",
   "metadata": {},
   "outputs": [],
   "source": []
  },
  {
   "cell_type": "code",
   "execution_count": 27,
   "id": "68486990-1bc6-4857-8d37-1c0c0b24961c",
   "metadata": {},
   "outputs": [
    {
     "name": "stdin",
     "output_type": "stream",
     "text": [
      "Enter a list of numbers separated by spaces:  1 2 3  4 5\n"
     ]
    },
    {
     "name": "stdout",
     "output_type": "stream",
     "text": [
      "Minimum value: 1\n",
      "Maximum value: 5\n"
     ]
    }
   ],
   "source": [
    "#Write a python program that returns the minimum and maximum values in a list of numbers. \n",
    "# Function to find the minimum and maximum values in a list\n",
    "def find_min_max(numbers):\n",
    "    # Check if the list is empty\n",
    "    if not numbers:\n",
    "        return None, None\n",
    "\n",
    "    # Find the minimum and maximum values\n",
    "    min_value = min(numbers)\n",
    "    max_value = max(numbers)\n",
    "\n",
    "    return min_value, max_value\n",
    "\n",
    "# Get input from the user\n",
    "try:\n",
    "    # Get the list of numbers from the user\n",
    "    numbers = input(\"Enter a list of numbers separated by spaces: \").split()\n",
    "    # Convert the input strings to integers\n",
    "    numbers = [int(num) for num in numbers]\n",
    "    # Call the function to find min and max\n",
    "    min_value, max_value = find_min_max(numbers)\n",
    "    if min_value is not None and max_value is not None:\n",
    "        print(f\"Minimum value: {min_value}\")\n",
    "        print(f\"Maximum value: {max_value}\")\n",
    "    else:\n",
    "        print(\"List is empty.\")\n",
    "except ValueError:\n",
    "    print(\"Invalid input. Please enter numbers separated by spaces.\")\n"
   ]
  },
  {
   "cell_type": "code",
   "execution_count": null,
   "id": "dbad7579-dbb9-45a2-96be-7d7e36b256dd",
   "metadata": {},
   "outputs": [],
   "source": []
  },
  {
   "cell_type": "code",
   "execution_count": 28,
   "id": "55c02f1c-0a6c-4546-bc95-a861fbd69e1e",
   "metadata": {},
   "outputs": [
    {
     "name": "stdin",
     "output_type": "stream",
     "text": [
      "Enter 'C' to convert from Celsius to Fahrenheit or 'F' to convert from Fahrenheit to Celsius:  c\n",
      "Enter the temperature in Celsius:  30\n"
     ]
    },
    {
     "name": "stdout",
     "output_type": "stream",
     "text": [
      "30.0°C is equal to 86.0°F.\n"
     ]
    }
   ],
   "source": [
    "# Write a program that converts temperature from Celsius to Fahrenheit and vice versa based on user input.\n",
    "# Function to convert Celsius to Fahrenheit\n",
    "def celsius_to_fahrenheit(celsius):\n",
    "    return (celsius * 9/5) + 32\n",
    "\n",
    "# Function to convert Fahrenheit to Celsius\n",
    "def fahrenheit_to_celsius(fahrenheit):\n",
    "    return (fahrenheit - 32) * 5/9\n",
    "\n",
    "# Get input from the user\n",
    "try:\n",
    "    choice = input(\"Enter 'C' to convert from Celsius to Fahrenheit or 'F' to convert from Fahrenheit to Celsius: \").upper()\n",
    "    \n",
    "    if choice == 'C':\n",
    "        celsius = float(input(\"Enter the temperature in Celsius: \"))\n",
    "        converted_temperature = celsius_to_fahrenheit(celsius)\n",
    "        print(f\"{celsius}°C is equal to {converted_temperature}°F.\")\n",
    "    elif choice == 'F':\n",
    "        fahrenheit = float(input(\"Enter the temperature in Fahrenheit: \"))\n",
    "        converted_temperature = fahrenheit_to_celsius(fahrenheit)\n",
    "        print(f\"{fahrenheit}°F is equal to {converted_temperature}°C.\")\n",
    "    else:\n",
    "        print(\"Invalid choice. Please enter 'C' or 'F'.\")\n",
    "except ValueError:\n",
    "    print(\"Invalid input. Please enter a valid temperature value.\")\n"
   ]
  },
  {
   "cell_type": "code",
   "execution_count": null,
   "id": "ea1f9ead-f0db-448e-a75d-e98576d7f3aa",
   "metadata": {},
   "outputs": [],
   "source": []
  },
  {
   "cell_type": "code",
   "execution_count": 30,
   "id": "3433f6dd-5d57-4664-a506-2ad507bd3a19",
   "metadata": {},
   "outputs": [
    {
     "name": "stdin",
     "output_type": "stream",
     "text": [
      "Enter the first number:  34\n",
      "Enter the operator (+, -, *, /):  /\n",
      "Enter the second number:  678\n"
     ]
    },
    {
     "name": "stdout",
     "output_type": "stream",
     "text": [
      "Result: 0.05014749262536873\n"
     ]
    }
   ],
   "source": [
    "#Write a program that acts as a simple calculator. It should take two numbers and an operator (+, -, *, /) as input and print the result.\n",
    "# Function to perform arithmetic operations\n",
    "def calculator(num1, operator, num2):\n",
    "    if operator == '+':\n",
    "        return num1 + num2\n",
    "    elif operator == '-':\n",
    "        return num1 - num2\n",
    "    elif operator == '*':\n",
    "        return num1 * num2\n",
    "    elif operator == '/':\n",
    "        # Check for division by zero\n",
    "        if num2 == 0:\n",
    "            return \"Error: Division by zero!\"\n",
    "        else:\n",
    "            return num1 / num2\n",
    "    else:\n",
    "        return \"Error: Invalid operator!\"\n",
    "\n",
    "# Get input from the user\n",
    "try:\n",
    "    num1 = float(input(\"Enter the first number: \"))\n",
    "    operator = input(\"Enter the operator (+, -, *, /): \")\n",
    "    num2 = float(input(\"Enter the second number: \"))\n",
    "\n",
    "    # Call the calculator function\n",
    "    result = calculator(num1, operator, num2)\n",
    "\n",
    "    # Print the result\n",
    "    print(\"Result:\", result)\n",
    "except ValueError:\n",
    "    print(\"Invalid input. Please enter valid numbers.\")\n"
   ]
  },
  {
   "cell_type": "code",
   "execution_count": null,
   "id": "baf470c2-d008-4a6b-8900-41fc2b8d4966",
   "metadata": {},
   "outputs": [],
   "source": []
  },
  {
   "cell_type": "code",
   "execution_count": 31,
   "id": "5cd61ca5-f621-4579-9f56-1b7bfbcbed59",
   "metadata": {},
   "outputs": [
    {
     "name": "stdout",
     "output_type": "stream",
     "text": [
      "One of the files does not exist.\n"
     ]
    }
   ],
   "source": [
    "# Write a program that copies the contents of one text file to another. \n",
    "# Function to copy contents from one file to another\n",
    "def copy_file(source_file, destination_file):\n",
    "    try:\n",
    "        with open(source_file, 'r') as source:\n",
    "            with open(destination_file, 'w') as destination:\n",
    "                # Read the contents of the source file and write them to the destination file\n",
    "                destination.write(source.read())\n",
    "        print(\"Contents copied successfully from '{}' to '{}'.\".format(source_file, destination_file))\n",
    "    except FileNotFoundError:\n",
    "        print(\"One of the files does not exist.\")\n",
    "    except Exception as e:\n",
    "        print(f\"An error occurred: {e}\")\n",
    "\n",
    "# Source and destination file paths (update with actual file paths)\n",
    "source_file = 'source.txt'\n",
    "destination_file = 'destination.txt'\n",
    "\n",
    "# Call the function to copy contents\n",
    "copy_file(source_file, destination_file)\n"
   ]
  },
  {
   "cell_type": "code",
   "execution_count": null,
   "id": "8d9c0e8f-c8ee-487a-ae5d-43dbb4052a5c",
   "metadata": {},
   "outputs": [],
   "source": []
  },
  {
   "cell_type": "code",
   "execution_count": 32,
   "id": "8c70af39-2b1b-45bf-85b8-b7f90791c14a",
   "metadata": {},
   "outputs": [
    {
     "name": "stdin",
     "output_type": "stream",
     "text": [
      "Enter a string:  hello\n",
      "Enter the prefix to check:  ll\n",
      "Enter the suffix to check:  o\n"
     ]
    },
    {
     "name": "stdout",
     "output_type": "stream",
     "text": [
      "The string does not start with the prefix 'll'.\n",
      "The string ends with the suffix 'o'.\n"
     ]
    }
   ],
   "source": [
    "#Write a program in python that checks if a string starts with a given prefix or ends with a given suffix. \n",
    "# Function to check if a string starts with a prefix or ends with a suffix\n",
    "def check_prefix_suffix(string, prefix, suffix):\n",
    "    starts_with_prefix = string.startswith(prefix)\n",
    "    ends_with_suffix = string.endswith(suffix)\n",
    "\n",
    "    return starts_with_prefix, ends_with_suffix\n",
    "\n",
    "# Get input from the user\n",
    "string = input(\"Enter a string: \")\n",
    "prefix = input(\"Enter the prefix to check: \")\n",
    "suffix = input(\"Enter the suffix to check: \")\n",
    "\n",
    "# Call the function to check prefix and suffix\n",
    "starts_with_prefix, ends_with_suffix = check_prefix_suffix(string, prefix, suffix)\n",
    "\n",
    "# Print the result\n",
    "print(f\"The string {'starts' if starts_with_prefix else 'does not start'} with the prefix '{prefix}'.\")\n",
    "print(f\"The string {'ends' if ends_with_suffix else 'does not end'} with the suffix '{suffix}'.\")\n"
   ]
  },
  {
   "cell_type": "code",
   "execution_count": null,
   "id": "119fca1a-3ad0-4ba6-bb64-69b7dbeeb28a",
   "metadata": {},
   "outputs": [],
   "source": []
  },
  {
   "cell_type": "code",
   "execution_count": 33,
   "id": "a365bc76-e6d4-467c-8f12-8780d3ff91b6",
   "metadata": {},
   "outputs": [
    {
     "name": "stdin",
     "output_type": "stream",
     "text": [
      "Enter a string:  hello\n"
     ]
    },
    {
     "name": "stdout",
     "output_type": "stream",
     "text": [
      "List of characters: ['h', 'e', 'l', 'l', 'o']\n"
     ]
    }
   ],
   "source": [
    "#Write a program in python that converts a string into a list of its characters.\n",
    "# Function to convert a string into a list of characters\n",
    "def string_to_list(string):\n",
    "    return list(string)\n",
    "\n",
    "# Get input from the user\n",
    "string = input(\"Enter a string: \")\n",
    "\n",
    "# Call the function to convert the string into a list of characters\n",
    "characters_list = string_to_list(string)\n",
    "\n",
    "# Print the list of characters\n",
    "print(\"List of characters:\", characters_list)\n"
   ]
  },
  {
   "cell_type": "code",
   "execution_count": null,
   "id": "56f45a9c-fc19-4e77-838c-05fe969749f4",
   "metadata": {},
   "outputs": [],
   "source": []
  }
 ],
 "metadata": {
  "kernelspec": {
   "display_name": "Python 3 (ipykernel)",
   "language": "python",
   "name": "python3"
  },
  "language_info": {
   "codemirror_mode": {
    "name": "ipython",
    "version": 3
   },
   "file_extension": ".py",
   "mimetype": "text/x-python",
   "name": "python",
   "nbconvert_exporter": "python",
   "pygments_lexer": "ipython3",
   "version": "3.11.5"
  }
 },
 "nbformat": 4,
 "nbformat_minor": 5
}
